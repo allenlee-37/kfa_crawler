{
 "cells": [
  {
   "cell_type": "code",
   "execution_count": 23,
   "metadata": {},
   "outputs": [
    {
     "data": {
      "text/html": [
       "<div>\n",
       "<style scoped>\n",
       "    .dataframe tbody tr th:only-of-type {\n",
       "        vertical-align: middle;\n",
       "    }\n",
       "\n",
       "    .dataframe tbody tr th {\n",
       "        vertical-align: top;\n",
       "    }\n",
       "\n",
       "    .dataframe thead th {\n",
       "        text-align: right;\n",
       "    }\n",
       "</style>\n",
       "<table border=\"1\" class=\"dataframe\">\n",
       "  <thead>\n",
       "    <tr style=\"text-align: right;\">\n",
       "      <th></th>\n",
       "      <th>팀명</th>\n",
       "      <th>정보</th>\n",
       "    </tr>\n",
       "  </thead>\n",
       "  <tbody>\n",
       "    <tr>\n",
       "      <th>0</th>\n",
       "      <td>AT완주클럽U15</td>\n",
       "      <td>창단일자\\n주소\\n전북 정읍시 정읍사로 508 (시기동)AT풋살아레나\\n연락처\\n0...</td>\n",
       "    </tr>\n",
       "    <tr>\n",
       "      <th>1</th>\n",
       "      <td>CRASSODONFC</td>\n",
       "      <td>창단일자\\n20220127\\n주소\\n서울 관악구 조원로22길 8 (신림동, 성원빌라...</td>\n",
       "    </tr>\n",
       "    <tr>\n",
       "      <th>2</th>\n",
       "      <td>FC리틀슛</td>\n",
       "      <td>창단일자\\n20070301\\n주소\\n부산 북구 화명대로94번길 45 (화명동, 화명...</td>\n",
       "    </tr>\n",
       "    <tr>\n",
       "      <th>3</th>\n",
       "      <td>FC목포</td>\n",
       "      <td>창단일자\\n20091224\\n주소\\n전남 목포시 내화마을길 89 (대양동, 목포국제...</td>\n",
       "    </tr>\n",
       "    <tr>\n",
       "      <th>4</th>\n",
       "      <td>FC서울</td>\n",
       "      <td>창단일자\\n19831222\\n주소\\n서울특별시 마포구 월드컵로 240 (성산동, 월...</td>\n",
       "    </tr>\n",
       "    <tr>\n",
       "      <th>5</th>\n",
       "      <td>FC서울U18서울오산고</td>\n",
       "      <td>창단일자\\n20121227\\n주소\\n서울특별시 마포구 월드컵로 240 (성산동, F...</td>\n",
       "    </tr>\n",
       "    <tr>\n",
       "      <th>6</th>\n",
       "      <td>FC안양</td>\n",
       "      <td>창단일자\\n20130202\\n주소\\n경기도 안양시 동안구 평촌대로 389 (비산동,...</td>\n",
       "    </tr>\n",
       "    <tr>\n",
       "      <th>7</th>\n",
       "      <td>FC증산</td>\n",
       "      <td>창단일자\\n19970917\\n주소\\n경남 양산시 물금읍 물금로 9 (물금리) 더 스...</td>\n",
       "    </tr>\n",
       "    <tr>\n",
       "      <th>8</th>\n",
       "      <td>FC충주</td>\n",
       "      <td>창단일자\\n20180101\\n주소\\n충북 충주시 대림로 85 (호암동, 충주종합운동...</td>\n",
       "    </tr>\n",
       "    <tr>\n",
       "      <th>9</th>\n",
       "      <td>LS축구아카데미</td>\n",
       "      <td>창단일자\\n20200805\\n주소\\n대구 달서구 상화북로 189 (상인동) 신동빌딩...</td>\n",
       "    </tr>\n",
       "  </tbody>\n",
       "</table>\n",
       "</div>"
      ],
      "text/plain": [
       "             팀명                                                 정보\n",
       "0     AT완주클럽U15  창단일자\\n주소\\n전북 정읍시 정읍사로 508 (시기동)AT풋살아레나\\n연락처\\n0...\n",
       "1   CRASSODONFC  창단일자\\n20220127\\n주소\\n서울 관악구 조원로22길 8 (신림동, 성원빌라...\n",
       "2         FC리틀슛  창단일자\\n20070301\\n주소\\n부산 북구 화명대로94번길 45 (화명동, 화명...\n",
       "3          FC목포  창단일자\\n20091224\\n주소\\n전남 목포시 내화마을길 89 (대양동, 목포국제...\n",
       "4          FC서울  창단일자\\n19831222\\n주소\\n서울특별시 마포구 월드컵로 240 (성산동, 월...\n",
       "5  FC서울U18서울오산고  창단일자\\n20121227\\n주소\\n서울특별시 마포구 월드컵로 240 (성산동, F...\n",
       "6          FC안양  창단일자\\n20130202\\n주소\\n경기도 안양시 동안구 평촌대로 389 (비산동,...\n",
       "7          FC증산  창단일자\\n19970917\\n주소\\n경남 양산시 물금읍 물금로 9 (물금리) 더 스...\n",
       "8          FC충주  창단일자\\n20180101\\n주소\\n충북 충주시 대림로 85 (호암동, 충주종합운동...\n",
       "9      LS축구아카데미  창단일자\\n20200805\\n주소\\n대구 달서구 상화북로 189 (상인동) 신동빌딩..."
      ]
     },
     "execution_count": 23,
     "metadata": {},
     "output_type": "execute_result"
    }
   ],
   "source": [
    "import pandas as pd\n",
    "test_df = pd.read_csv('/Users/master/dev/PythonPr/crawler/kfa-crawler/test_result.csv')\n",
    "test_df = test_df[['팀명', '정보']]\n",
    "test_df"
   ]
  },
  {
   "cell_type": "code",
   "execution_count": 29,
   "metadata": {},
   "outputs": [
    {
     "data": {
      "text/html": [
       "<div>\n",
       "<style scoped>\n",
       "    .dataframe tbody tr th:only-of-type {\n",
       "        vertical-align: middle;\n",
       "    }\n",
       "\n",
       "    .dataframe tbody tr th {\n",
       "        vertical-align: top;\n",
       "    }\n",
       "\n",
       "    .dataframe thead th {\n",
       "        text-align: right;\n",
       "    }\n",
       "</style>\n",
       "<table border=\"1\" class=\"dataframe\">\n",
       "  <thead>\n",
       "    <tr style=\"text-align: right;\">\n",
       "      <th></th>\n",
       "      <th>팀명</th>\n",
       "      <th>정보</th>\n",
       "    </tr>\n",
       "  </thead>\n",
       "  <tbody>\n",
       "    <tr>\n",
       "      <th>0</th>\n",
       "      <td>AT완주클럽U15</td>\n",
       "      <td>창단일자\\n주소\\n전북 정읍시 정읍사로 508 (시기동)AT풋살아레나\\n연락처\\n0...</td>\n",
       "    </tr>\n",
       "    <tr>\n",
       "      <th>1</th>\n",
       "      <td>CRASSODONFC</td>\n",
       "      <td>창단일자\\n20220127\\n주소\\n서울 관악구 조원로22길 8 (신림동, 성원빌라...</td>\n",
       "    </tr>\n",
       "    <tr>\n",
       "      <th>2</th>\n",
       "      <td>FC리틀슛</td>\n",
       "      <td>창단일자\\n20070301\\n주소\\n부산 북구 화명대로94번길 45 (화명동, 화명...</td>\n",
       "    </tr>\n",
       "    <tr>\n",
       "      <th>3</th>\n",
       "      <td>FC목포</td>\n",
       "      <td>창단일자\\n20091224\\n주소\\n전남 목포시 내화마을길 89 (대양동, 목포국제...</td>\n",
       "    </tr>\n",
       "    <tr>\n",
       "      <th>4</th>\n",
       "      <td>FC서울</td>\n",
       "      <td>창단일자\\n19831222\\n주소\\n서울특별시 마포구 월드컵로 240 (성산동, 월...</td>\n",
       "    </tr>\n",
       "    <tr>\n",
       "      <th>5</th>\n",
       "      <td>FC서울U18서울오산고</td>\n",
       "      <td>창단일자\\n20121227\\n주소\\n서울특별시 마포구 월드컵로 240 (성산동, F...</td>\n",
       "    </tr>\n",
       "    <tr>\n",
       "      <th>6</th>\n",
       "      <td>FC안양</td>\n",
       "      <td>창단일자\\n20130202\\n주소\\n경기도 안양시 동안구 평촌대로 389 (비산동,...</td>\n",
       "    </tr>\n",
       "    <tr>\n",
       "      <th>7</th>\n",
       "      <td>FC증산</td>\n",
       "      <td>창단일자\\n19970917\\n주소\\n경남 양산시 물금읍 물금로 9 (물금리) 더 스...</td>\n",
       "    </tr>\n",
       "    <tr>\n",
       "      <th>8</th>\n",
       "      <td>FC충주</td>\n",
       "      <td>창단일자\\n20180101\\n주소\\n충북 충주시 대림로 85 (호암동, 충주종합운동...</td>\n",
       "    </tr>\n",
       "    <tr>\n",
       "      <th>9</th>\n",
       "      <td>LS축구아카데미</td>\n",
       "      <td>창단일자\\n20200805\\n주소\\n대구 달서구 상화북로 189 (상인동) 신동빌딩...</td>\n",
       "    </tr>\n",
       "    <tr>\n",
       "      <th>0</th>\n",
       "      <td>새 팀</td>\n",
       "      <td>새 정보</td>\n",
       "    </tr>\n",
       "  </tbody>\n",
       "</table>\n",
       "</div>"
      ],
      "text/plain": [
       "             팀명                                                 정보\n",
       "0     AT완주클럽U15  창단일자\\n주소\\n전북 정읍시 정읍사로 508 (시기동)AT풋살아레나\\n연락처\\n0...\n",
       "1   CRASSODONFC  창단일자\\n20220127\\n주소\\n서울 관악구 조원로22길 8 (신림동, 성원빌라...\n",
       "2         FC리틀슛  창단일자\\n20070301\\n주소\\n부산 북구 화명대로94번길 45 (화명동, 화명...\n",
       "3          FC목포  창단일자\\n20091224\\n주소\\n전남 목포시 내화마을길 89 (대양동, 목포국제...\n",
       "4          FC서울  창단일자\\n19831222\\n주소\\n서울특별시 마포구 월드컵로 240 (성산동, 월...\n",
       "5  FC서울U18서울오산고  창단일자\\n20121227\\n주소\\n서울특별시 마포구 월드컵로 240 (성산동, F...\n",
       "6          FC안양  창단일자\\n20130202\\n주소\\n경기도 안양시 동안구 평촌대로 389 (비산동,...\n",
       "7          FC증산  창단일자\\n19970917\\n주소\\n경남 양산시 물금읍 물금로 9 (물금리) 더 스...\n",
       "8          FC충주  창단일자\\n20180101\\n주소\\n충북 충주시 대림로 85 (호암동, 충주종합운동...\n",
       "9      LS축구아카데미  창단일자\\n20200805\\n주소\\n대구 달서구 상화북로 189 (상인동) 신동빌딩...\n",
       "0           새 팀                                               새 정보"
      ]
     },
     "execution_count": 29,
     "metadata": {},
     "output_type": "execute_result"
    }
   ],
   "source": [
    "pd.concat([test_df, pd.DataFrame({'팀명': ['새 팀'],'정보': ['새 정보']})])"
   ]
  },
  {
   "cell_type": "code",
   "execution_count": 26,
   "metadata": {},
   "outputs": [
    {
     "data": {
      "text/html": [
       "<div>\n",
       "<style scoped>\n",
       "    .dataframe tbody tr th:only-of-type {\n",
       "        vertical-align: middle;\n",
       "    }\n",
       "\n",
       "    .dataframe tbody tr th {\n",
       "        vertical-align: top;\n",
       "    }\n",
       "\n",
       "    .dataframe thead th {\n",
       "        text-align: right;\n",
       "    }\n",
       "</style>\n",
       "<table border=\"1\" class=\"dataframe\">\n",
       "  <thead>\n",
       "    <tr style=\"text-align: right;\">\n",
       "      <th></th>\n",
       "      <th>팀명</th>\n",
       "      <th>정보</th>\n",
       "    </tr>\n",
       "  </thead>\n",
       "  <tbody>\n",
       "    <tr>\n",
       "      <th>0</th>\n",
       "      <td>AT완주클럽U15</td>\n",
       "      <td>창단일자\\n주소\\n전북 정읍시 정읍사로 508 (시기동)AT풋살아레나\\n연락처\\n0...</td>\n",
       "    </tr>\n",
       "    <tr>\n",
       "      <th>1</th>\n",
       "      <td>CRASSODONFC</td>\n",
       "      <td>창단일자\\n20220127\\n주소\\n서울 관악구 조원로22길 8 (신림동, 성원빌라...</td>\n",
       "    </tr>\n",
       "    <tr>\n",
       "      <th>2</th>\n",
       "      <td>FC리틀슛</td>\n",
       "      <td>창단일자\\n20070301\\n주소\\n부산 북구 화명대로94번길 45 (화명동, 화명...</td>\n",
       "    </tr>\n",
       "    <tr>\n",
       "      <th>3</th>\n",
       "      <td>FC목포</td>\n",
       "      <td>창단일자\\n20091224\\n주소\\n전남 목포시 내화마을길 89 (대양동, 목포국제...</td>\n",
       "    </tr>\n",
       "    <tr>\n",
       "      <th>4</th>\n",
       "      <td>FC서울</td>\n",
       "      <td>창단일자\\n19831222\\n주소\\n서울특별시 마포구 월드컵로 240 (성산동, 월...</td>\n",
       "    </tr>\n",
       "    <tr>\n",
       "      <th>5</th>\n",
       "      <td>FC서울U18서울오산고</td>\n",
       "      <td>창단일자\\n20121227\\n주소\\n서울특별시 마포구 월드컵로 240 (성산동, F...</td>\n",
       "    </tr>\n",
       "    <tr>\n",
       "      <th>6</th>\n",
       "      <td>FC안양</td>\n",
       "      <td>창단일자\\n20130202\\n주소\\n경기도 안양시 동안구 평촌대로 389 (비산동,...</td>\n",
       "    </tr>\n",
       "    <tr>\n",
       "      <th>7</th>\n",
       "      <td>FC증산</td>\n",
       "      <td>창단일자\\n19970917\\n주소\\n경남 양산시 물금읍 물금로 9 (물금리) 더 스...</td>\n",
       "    </tr>\n",
       "    <tr>\n",
       "      <th>8</th>\n",
       "      <td>FC충주</td>\n",
       "      <td>창단일자\\n20180101\\n주소\\n충북 충주시 대림로 85 (호암동, 충주종합운동...</td>\n",
       "    </tr>\n",
       "    <tr>\n",
       "      <th>9</th>\n",
       "      <td>LS축구아카데미</td>\n",
       "      <td>창단일자\\n20200805\\n주소\\n대구 달서구 상화북로 189 (상인동) 신동빌딩...</td>\n",
       "    </tr>\n",
       "  </tbody>\n",
       "</table>\n",
       "</div>"
      ],
      "text/plain": [
       "             팀명                                                 정보\n",
       "0     AT완주클럽U15  창단일자\\n주소\\n전북 정읍시 정읍사로 508 (시기동)AT풋살아레나\\n연락처\\n0...\n",
       "1   CRASSODONFC  창단일자\\n20220127\\n주소\\n서울 관악구 조원로22길 8 (신림동, 성원빌라...\n",
       "2         FC리틀슛  창단일자\\n20070301\\n주소\\n부산 북구 화명대로94번길 45 (화명동, 화명...\n",
       "3          FC목포  창단일자\\n20091224\\n주소\\n전남 목포시 내화마을길 89 (대양동, 목포국제...\n",
       "4          FC서울  창단일자\\n19831222\\n주소\\n서울특별시 마포구 월드컵로 240 (성산동, 월...\n",
       "5  FC서울U18서울오산고  창단일자\\n20121227\\n주소\\n서울특별시 마포구 월드컵로 240 (성산동, F...\n",
       "6          FC안양  창단일자\\n20130202\\n주소\\n경기도 안양시 동안구 평촌대로 389 (비산동,...\n",
       "7          FC증산  창단일자\\n19970917\\n주소\\n경남 양산시 물금읍 물금로 9 (물금리) 더 스...\n",
       "8          FC충주  창단일자\\n20180101\\n주소\\n충북 충주시 대림로 85 (호암동, 충주종합운동...\n",
       "9      LS축구아카데미  창단일자\\n20200805\\n주소\\n대구 달서구 상화북로 189 (상인동) 신동빌딩..."
      ]
     },
     "execution_count": 26,
     "metadata": {},
     "output_type": "execute_result"
    }
   ],
   "source": [
    "test_df"
   ]
  },
  {
   "cell_type": "code",
   "execution_count": 39,
   "metadata": {},
   "outputs": [
    {
     "name": "stdout",
     "output_type": "stream",
     "text": [
      "다음 버튼을 눌러야 할 때\n",
      "다음 버튼을 몇번 눌러서 가야할 까?: 2\n"
     ]
    }
   ],
   "source": [
    "a=21\n",
    "if a%10==1:\n",
    "    print('다음 버튼을 눌러야 할 때')\n",
    "    print(f'다음 버튼을 몇번 눌러서 가야할 까?: {a//10}')\n",
    "else: print('그냥 하던 대로 하면 됨')"
   ]
  },
  {
   "cell_type": "code",
   "execution_count": 3,
   "metadata": {},
   "outputs": [
    {
     "data": {
      "text/plain": [
       "1"
      ]
     },
     "execution_count": 3,
     "metadata": {},
     "output_type": "execute_result"
    }
   ],
   "source": [
    "11//10"
   ]
  },
  {
   "cell_type": "code",
   "execution_count": 11,
   "metadata": {},
   "outputs": [
    {
     "name": "stdout",
     "output_type": "stream",
     "text": [
      "2\n"
     ]
    }
   ],
   "source": [
    "page_num = 21\n",
    "\n",
    "if page_num%10 == 0:\n",
    "        button_number = 10\n",
    "else: button_number = page_num%10+1\n",
    "\n",
    "print(button_number)"
   ]
  },
  {
   "cell_type": "code",
   "execution_count": null,
   "metadata": {},
   "outputs": [],
   "source": [
    "while n < next_page_count:\n",
    "    for page_num"
   ]
  },
  {
   "cell_type": "code",
   "execution_count": 4,
   "metadata": {},
   "outputs": [
    {
     "name": "stdout",
     "output_type": "stream",
     "text": [
      "hi 0\n",
      "hi 0\n",
      "hi 0\n",
      "hi 0\n",
      "hi 0\n",
      "hi 0\n",
      "hi 0\n",
      "hi 0\n",
      "hi 0\n",
      "hi 0\n",
      "hi 0\n",
      "hi 1\n",
      "hi 0\n",
      "hi 1\n",
      "hi 0\n",
      "hi 1\n",
      "hi 0\n",
      "hi 1\n",
      "hi 0\n",
      "hi 1\n",
      "hi 0\n",
      "hi 1\n",
      "hi 0\n",
      "hi 1\n",
      "hi 0\n",
      "hi 1\n",
      "hi 0\n",
      "hi 1\n",
      "hi 0\n",
      "hi 1\n",
      "hi 0\n",
      "hi 1\n",
      "hi 2\n",
      "hi 0\n",
      "hi 1\n",
      "hi 2\n",
      "hi 0\n",
      "hi 1\n",
      "hi 2\n",
      "hi 0\n",
      "hi 1\n",
      "hi 2\n",
      "hi 0\n",
      "hi 1\n",
      "hi 2\n",
      "hi 0\n",
      "hi 1\n",
      "hi 2\n",
      "hi 0\n",
      "hi 1\n",
      "hi 2\n",
      "hi 0\n",
      "hi 1\n",
      "hi 2\n",
      "hi 0\n",
      "hi 1\n",
      "hi 2\n",
      "hi 0\n",
      "hi 1\n",
      "hi 2\n",
      "hi 0\n",
      "hi 1\n",
      "hi 2\n",
      "hi 3\n",
      "hi 0\n",
      "hi 1\n",
      "hi 2\n",
      "hi 3\n",
      "hi 0\n",
      "hi 1\n",
      "hi 2\n",
      "hi 3\n",
      "hi 0\n",
      "hi 1\n",
      "hi 2\n",
      "hi 3\n",
      "hi 0\n",
      "hi 1\n",
      "hi 2\n",
      "hi 3\n",
      "hi 0\n",
      "hi 1\n",
      "hi 2\n",
      "hi 3\n",
      "hi 0\n",
      "hi 1\n",
      "hi 2\n",
      "hi 3\n",
      "hi 0\n",
      "hi 1\n",
      "hi 2\n",
      "hi 3\n",
      "hi 0\n",
      "hi 1\n",
      "hi 2\n",
      "hi 3\n",
      "페이지 다음 누르기\n"
     ]
    }
   ],
   "source": [
    "'''다음 페이지 몇번 누를지 선택'''\n",
    "for page_num in range(1, 50): # 1부터 255까지\n",
    "    if page_num == 1: pass\n",
    "    else:\n",
    "        next_page_count = (page_num-1)//10\n",
    "        n=0\n",
    "        while n < next_page_count:\n",
    "            print(f'hi {n}')\n",
    "            n += 1\n",
    "print('페이지 다음 누르기')"
   ]
  },
  {
   "cell_type": "code",
   "execution_count": 1,
   "metadata": {},
   "outputs": [
    {
     "data": {
      "text/plain": [
       "3"
      ]
     },
     "execution_count": 1,
     "metadata": {},
     "output_type": "execute_result"
    }
   ],
   "source": [
    "new_list = [1,2,3]\n",
    "len(new_list)"
   ]
  },
  {
   "cell_type": "code",
   "execution_count": 6,
   "metadata": {},
   "outputs": [],
   "source": [
    "validator=0\n",
    "for i in range(0):\n",
    "    validator += 1\n",
    "    print(validator)"
   ]
  },
  {
   "cell_type": "code",
   "execution_count": null,
   "metadata": {},
   "outputs": [],
   "source": []
  }
 ],
 "metadata": {
  "kernelspec": {
   "display_name": "Python 3",
   "language": "python",
   "name": "python3"
  },
  "language_info": {
   "codemirror_mode": {
    "name": "ipython",
    "version": 3
   },
   "file_extension": ".py",
   "mimetype": "text/x-python",
   "name": "python",
   "nbconvert_exporter": "python",
   "pygments_lexer": "ipython3",
   "version": "3.9.6"
  },
  "orig_nbformat": 4
 },
 "nbformat": 4,
 "nbformat_minor": 2
}
